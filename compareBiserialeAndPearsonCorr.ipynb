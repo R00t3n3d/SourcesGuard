{
 "cells": [
  {
   "cell_type": "code",
   "execution_count": 2,
   "metadata": {},
   "outputs": [
    {
     "name": "stdout",
     "output_type": "stream",
     "text": [
      "Test de corrélation bisériale ponctuelle sur les variables dichotomiques\n",
      "Pour les cours : PointbiserialrResult(correlation=0.3330226397901611, pvalue=0.01214359038202664)\n",
      "Pour les supports : PointbiserialrResult(correlation=0.20206336568151245, pvalue=0.13531884730900587)\n",
      "Pour les outils : PointbiserialrResult(correlation=0.4329184259643035, pvalue=0.0008606702206141808)\n",
      "Pour la formation continue : PointbiserialrResult(correlation=0.18514753942555173, pvalue=0.17190376315684627)\n",
      "------\n",
      "Test de corrélation de Pearson sur les variables dichotomiques\n",
      "Pour les cours : Coefficient de corrélation Pearson : (correlation= 0.3330226397901608 , pvalue= 0.01214359038202664 )\n",
      "Pour les supports : Coefficient de corrélation Pearson : (correlation= 0.20206336568151254 , pvalue= 0.13531884730900587 )\n",
      "Pour les outils : Coefficient de corrélation Pearson : (correlation= 0.43291842596430374 , pvalue= 0.0008606702206141808 )\n",
      "Pour la formation continue : Coefficient de corrélation Pearson : (correlation= 0.18514753942555176 , pvalue= 0.17190376315684627 )\n"
     ]
    }
   ],
   "source": [
    "import pandas as pd\n",
    "import scipy.stats\n",
    "def calculate_pvalues(df):\n",
    "    df = df._get_numeric_data()\n",
    "    dfcols = pd.DataFrame(columns=df.columns)\n",
    "    pvalues = dfcols.transpose().join(dfcols, how='outer')\n",
    "    for r in df.columns:\n",
    "        for c in df.columns:\n",
    "            if c == r:\n",
    "                df_corr = df[[r]].dropna()\n",
    "            else:\n",
    "                df_corr = df[[r,c]].dropna()\n",
    "            pvalues[r][c] = scipy.stats.pearsonr(df_corr[r], df_corr[c])[1]\n",
    "    return pvalues\n",
    "\n",
    "# Lecture du CSV\n",
    "data = pd.read_csv(\"C:/datas.csv\", delimiter=\";\")\n",
    "\n",
    "# Initialisation des données pour la variable dépendante\n",
    "VD1 = data[['MEOAttentionSecurite', 'MEOUtiliseOutils', 'MEOSecuriseAcces', 'MEOSensibiliseSources', 'MEOProtectionEquivalente', 'MEODestructionSecure']].median(axis=1)\n",
    "\n",
    "# Initialisation des données pour chaque facteur\n",
    "VI1_3 = data[['suiviCoursSuivi', 'suiviCoursPropose', 'suiviCoursEntendu']].median(axis=1)\n",
    "VI2_1 = data[['MEPProcess', 'MEPProcessUtilite']].median(axis=1)\n",
    "VI2_2 = data[['MEPOutils', 'MEPOutilsUtilite']].median(axis=1)\n",
    "VI2_3 = data[['suiviCoursEntrepriseSuivi', 'suiviCoursEntreprisePropose', 'suiviCoursEntrepriseEntendu']].median(axis=1)\n",
    "\n",
    "# Concaténation\n",
    "VD1_VI1_3 = pd.concat([VI1_3, VD1], axis=1)\n",
    "VD1_VI2_1 = pd.concat([VI2_1, VD1], axis=1)\n",
    "VD1_VI2_2 = pd.concat([VI2_2, VD1], axis=1)\n",
    "VD1_VI2_3 = pd.concat([VI2_3, VD1], axis=1)\n",
    "\n",
    "# Tests\n",
    "print(\"Test de corrélation bisériale ponctuelle sur les variables dichotomiques\")\n",
    "print(\"Pour les cours :\", scipy.stats.pointbiserialr(VI1_3, VD1))\n",
    "print(\"Pour les supports :\", scipy.stats.pointbiserialr(VI2_1, VD1))\n",
    "print(\"Pour les outils :\", scipy.stats.pointbiserialr(VI2_2, VD1))\n",
    "print(\"Pour la formation continue :\", scipy.stats.pointbiserialr(VI2_3, VD1))\n",
    "print(\"------\")\n",
    "print(\"Test de corrélation de Pearson sur les variables dichotomiques\")\n",
    "print(\"Pour les cours : Coefficient de corrélation Pearson : (correlation=\",VD1_VI1_3.corr(method='pearson')[0][1],\", pvalue=\", calculate_pvalues(VD1_VI1_3)[0][1],\")\")\n",
    "print(\"Pour les supports : Coefficient de corrélation Pearson : (correlation=\",VD1_VI2_1.corr(method='pearson')[0][1],\", pvalue=\", calculate_pvalues(VD1_VI2_1)[0][1],\")\")\n",
    "print(\"Pour les outils : Coefficient de corrélation Pearson : (correlation=\",VD1_VI2_2.corr(method='pearson')[0][1],\", pvalue=\", calculate_pvalues(VD1_VI2_2)[0][1],\")\")\n",
    "print(\"Pour la formation continue : Coefficient de corrélation Pearson : (correlation=\",VD1_VI2_3.corr(method='pearson')[0][1],\", pvalue=\", calculate_pvalues(VD1_VI2_3)[0][1],\")\")\n"
   ]
  }
 ],
 "metadata": {
  "kernelspec": {
   "display_name": "Python 3",
   "language": "python",
   "name": "python3"
  },
  "language_info": {
   "codemirror_mode": {
    "name": "ipython",
    "version": 3
   },
   "file_extension": ".py",
   "mimetype": "text/x-python",
   "name": "python",
   "nbconvert_exporter": "python",
   "pygments_lexer": "ipython3",
   "version": "3.8.3"
  }
 },
 "nbformat": 4,
 "nbformat_minor": 4
}
